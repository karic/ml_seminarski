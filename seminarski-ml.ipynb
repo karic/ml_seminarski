{
 "cells": [
  {
   "cell_type": "markdown",
   "metadata": {},
   "source": [
    "# Algoritmi nadgledanog ucenja\n",
    "\n",
    "Masinsko ucenje je izucavanje kompjeterskih algoritama koji se sami poboljsavaju kroz steceno iskustvo. Ovakvo ucenje dio umjetne inteligencije. Algoritmi masinskog ucenja prave matematicki model na osnovu sample data (knonwnn as training data) kako bi mogli donositi odluke i predikcije a da ninsu izricito programirani da to urade. Kao sto smo naveli, algoritmi masinskog ucenja prave model, a taj proces nazivamo treniranje.\n",
    "\n",
    "Neki od tipova ucenja su:\n",
    "\n",
    "* Supervised learning (Nadgledano ucenje)\n",
    "* Unsupervised learning (Nenadgledano ucenje)\n",
    "* Semi-supervised learning (Polunadgledano ucenje)\n",
    "* Reinforcment learning (Obucavanje pojacavanjem) \n",
    "\n",
    "\n",
    "U nastavku cemo posmatrati nadgledano ucenje i njegovim algoritmima.\n",
    "\n",
    "\n",
    "Proces masinskog ucenja se sastoji od 5 koraka:\n",
    "1. Prikupljanje i priprema podataka\n",
    "2. Biranje modela\n",
    "3. Treniranje modela\n",
    "4. Procjena modela i prilagodjavanje parametara\n",
    "5. Predikcija\n",
    "\n",
    "\n",
    "\n",
    "\n",
    "Nadgledano ucenje je dio masinskog ucenja koje proucava funkcije koje preslikavaju ulaz na izlaz na osnovu primjera ulaza i izlaza parova. Izvodi funkciju iz obiljezenih podataka iz training seta. U nadgledanom ucenju svaki primjer je par koji se sastoji od ulaznog objekta (obicno vektora) i zeljene izlazne vrijednosti. Nadgledni algoritam ucenja analizira podatke o treningu i daje zakljucenu funkciju koja se moze koristiti za mapiranje novih primjera. Optimalan scenarij omoguciti ce da algoritam pravilno utvrdi oznake klase za nove instance.\n",
    "\n",
    "\n",
    "## Linearna regresija\n",
    "\n",
    "Linearna regresija je jedan od najlaksih algoritama u masinskom ucenju. To je statisticki model koji pokusava da pokaze odnos dvije relacije pomocu linearne jednacine.\n",
    "\n",
    "\n",
    "Da bi lakse objasnili linearno regresiju uzeti cemo dole navedeni dataset kao primjer."
   ]
  },
  {
   "cell_type": "markdown",
   "metadata": {},
   "source": [
    "Importujemo:\n",
    "* pandas - laksa manipulacija podacima\n",
    "* NumPy - premade matematicke funkcije\n",
    "* matploylib - crtanje grafika"
   ]
  },
  {
   "cell_type": "code",
   "execution_count": 1,
   "metadata": {},
   "outputs": [],
   "source": [
    "import pandas as pd\n",
    "import numpy as np\n",
    "import matplotlib.pyplot as plot"
   ]
  },
  {
   "cell_type": "markdown",
   "metadata": {},
   "source": [
    "Importujmo podatke sa [kaggle insurance dataset](https://www.kaggle.com/mirichoi0218/insurance/data)\n",
    "\n",
    "\n",
    "Medical Cost Personal Datasets\n",
    "Insurance Forecast by using Linear Regression\n",
    "\n",
    "\n",
    "Sadrzi se od sljedecih kolona:\n",
    "* age: age of primary beneficiary\n",
    "\n",
    "* sex: insurance contractor gender, female, male\n",
    "\n",
    "* bmi: Body mass index, providing an understanding of body, weights that are relatively high or low relative to height, objective index of body weight (kg / m ^ 2) using the ratio of height to weight, ideally 18.5 to 24.9\n",
    "\n",
    "* children: Number of children covered by health insurance / Number of dependents\n",
    "\n",
    "* smoker: Smoking\n",
    "\n",
    "* region: the beneficiary's residential area in the US, northeast, southeast, southwest, northwest.\n",
    "\n",
    "* charges: Individual medical costs billed by health insurance\n",
    "\n",
    "\n",
    "Mi cemo filtrirati podatke jer bi inace dobili pravo nizak r (0.089405...), te cemo odbaciti 10% najvecih vrijednosti\n"
   ]
  },
  {
   "cell_type": "code",
   "execution_count": 2,
   "metadata": {},
   "outputs": [],
   "source": [
    "data = pd.read_csv('insurance.csv')\n",
    "data = data[data['smoker']=='no']\n",
    "data = data[data['sex']=='male']\n",
    "data = data[data['children']==0]\n",
    "q = data[\"charges\"].quantile(0.90)\n",
    "data = data[data[\"charges\"]< q]"
   ]
  },
  {
   "cell_type": "markdown",
   "metadata": {},
   "source": [
    "Pogledajmo kako nam izgledaju podaci"
   ]
  },
  {
   "cell_type": "code",
   "execution_count": 3,
   "metadata": {},
   "outputs": [
    {
     "name": "stdout",
     "output_type": "stream",
     "text": [
      "(200, 7)\n"
     ]
    },
    {
     "data": {
      "text/html": [
       "<div>\n",
       "<style scoped>\n",
       "    .dataframe tbody tr th:only-of-type {\n",
       "        vertical-align: middle;\n",
       "    }\n",
       "\n",
       "    .dataframe tbody tr th {\n",
       "        vertical-align: top;\n",
       "    }\n",
       "\n",
       "    .dataframe thead th {\n",
       "        text-align: right;\n",
       "    }\n",
       "</style>\n",
       "<table border=\"1\" class=\"dataframe\">\n",
       "  <thead>\n",
       "    <tr style=\"text-align: right;\">\n",
       "      <th></th>\n",
       "      <th>age</th>\n",
       "      <th>sex</th>\n",
       "      <th>bmi</th>\n",
       "      <th>children</th>\n",
       "      <th>smoker</th>\n",
       "      <th>region</th>\n",
       "      <th>charges</th>\n",
       "    </tr>\n",
       "  </thead>\n",
       "  <tbody>\n",
       "    <tr>\n",
       "      <th>4</th>\n",
       "      <td>32</td>\n",
       "      <td>male</td>\n",
       "      <td>28.880</td>\n",
       "      <td>0</td>\n",
       "      <td>no</td>\n",
       "      <td>northwest</td>\n",
       "      <td>3866.85520</td>\n",
       "    </tr>\n",
       "    <tr>\n",
       "      <th>10</th>\n",
       "      <td>25</td>\n",
       "      <td>male</td>\n",
       "      <td>26.220</td>\n",
       "      <td>0</td>\n",
       "      <td>no</td>\n",
       "      <td>northeast</td>\n",
       "      <td>2721.32080</td>\n",
       "    </tr>\n",
       "    <tr>\n",
       "      <th>12</th>\n",
       "      <td>23</td>\n",
       "      <td>male</td>\n",
       "      <td>34.400</td>\n",
       "      <td>0</td>\n",
       "      <td>no</td>\n",
       "      <td>southwest</td>\n",
       "      <td>1826.84300</td>\n",
       "    </tr>\n",
       "    <tr>\n",
       "      <th>17</th>\n",
       "      <td>23</td>\n",
       "      <td>male</td>\n",
       "      <td>23.845</td>\n",
       "      <td>0</td>\n",
       "      <td>no</td>\n",
       "      <td>northeast</td>\n",
       "      <td>2395.17155</td>\n",
       "    </tr>\n",
       "    <tr>\n",
       "      <th>18</th>\n",
       "      <td>56</td>\n",
       "      <td>male</td>\n",
       "      <td>40.300</td>\n",
       "      <td>0</td>\n",
       "      <td>no</td>\n",
       "      <td>southwest</td>\n",
       "      <td>10602.38500</td>\n",
       "    </tr>\n",
       "  </tbody>\n",
       "</table>\n",
       "</div>"
      ],
      "text/plain": [
       "    age   sex     bmi  children smoker     region      charges\n",
       "4    32  male  28.880         0     no  northwest   3866.85520\n",
       "10   25  male  26.220         0     no  northeast   2721.32080\n",
       "12   23  male  34.400         0     no  southwest   1826.84300\n",
       "17   23  male  23.845         0     no  northeast   2395.17155\n",
       "18   56  male  40.300         0     no  southwest  10602.38500"
      ]
     },
     "execution_count": 3,
     "metadata": {},
     "output_type": "execute_result"
    }
   ],
   "source": [
    "print(data.shape)\n",
    "data.head()"
   ]
  },
  {
   "cell_type": "markdown",
   "metadata": {},
   "source": [
    "Uzeti cemo dvije varijable, godine nju nazivamo kao \"nezavisnu\" dok cemo pokusati da odredimo naplacenu sumu i nju nazivamo kao \"zavisnu\".\n",
    "Kako bi ispitali koliko dobro nas model daje predikcije.\n",
    "\n",
    "Koristiti cemo Ordinary Least Squares metodu.\n",
    "\n",
    "![Eq](https://miro.medium.com/max/187/1*ypggCCmwRs4tjXqscH8N4Q.png)\n",
    "![Vari](https://miro.medium.com/max/564/1*_wFBlqEDEzOp6Tx3suNj2g.png)\n",
    "\n",
    "Za procjenu kvaliteta nase metode koristicemo coefficient of determination.\n",
    "\n",
    "![Drugi](data:image/png;base64,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)\n",
    "\n",
    "\n",
    "OLS metoda izgleda jednostavno i nije komoputacijski zahtjevna."
   ]
  },
  {
   "cell_type": "code",
   "execution_count": 4,
   "metadata": {},
   "outputs": [],
   "source": [
    "X = data['age'].values\n",
    "Y = data['charges'].values"
   ]
  },
  {
   "cell_type": "code",
   "execution_count": 5,
   "metadata": {},
   "outputs": [
    {
     "name": "stdout",
     "output_type": "stream",
     "text": [
      "200\n",
      "200\n"
     ]
    }
   ],
   "source": [
    "print(X.shape[0])\n",
    "print(Y.shape[0])"
   ]
  },
  {
   "cell_type": "code",
   "execution_count": 6,
   "metadata": {},
   "outputs": [],
   "source": [
    "mean_x = np.mean(X)\n",
    "mean_y = np.mean(Y)"
   ]
  },
  {
   "cell_type": "code",
   "execution_count": 7,
   "metadata": {},
   "outputs": [
    {
     "name": "stdout",
     "output_type": "stream",
     "text": [
      "37.96\n",
      "6131.75073575\n"
     ]
    }
   ],
   "source": [
    "print(mean_x)\n",
    "print(mean_y)"
   ]
  },
  {
   "cell_type": "code",
   "execution_count": 8,
   "metadata": {},
   "outputs": [],
   "source": [
    "n = X.shape[0]"
   ]
  },
  {
   "cell_type": "code",
   "execution_count": 9,
   "metadata": {},
   "outputs": [
    {
     "name": "stdout",
     "output_type": "stream",
     "text": [
      "258.134726544 -3667.04348386\n"
     ]
    }
   ],
   "source": [
    "numerator=0\n",
    "denominator=0\n",
    "for i in range(n):\n",
    "    numerator+=(X[i] - mean_x ) * (Y[i] - mean_y)\n",
    "    denominator+= (X[i] - mean_x) ** 2\n",
    "m=numerator/denominator\n",
    "b=mean_y-(m*mean_x)\n",
    "\n",
    "print(m, b)"
   ]
  },
  {
   "cell_type": "code",
   "execution_count": 10,
   "metadata": {},
   "outputs": [
    {
     "data": {
      "image/png": "[encoded data removed]",
      "text/plain": [
       "<Figure size 432x288 with 1 Axes>"
      ]
     },
     "metadata": {
      "needs_background": "light"
     },
     "output_type": "display_data"
    }
   ],
   "source": [
    "max_x = 125\n",
    "min_x = 0\n",
    "\n",
    "x = np.linspace(min_x, max_x)\n",
    "y = m*x+b\n",
    "\n",
    "plot.plot(x, y, color='#58b970', label='Regression Line')\n",
    "plot.scatter(X, Y, c='#ef5423', label='Scatter Plot')\n",
    "\n",
    "plot.xlabel('Age')\n",
    "plot.ylabel('Cost')\n",
    "plot.legend()\n",
    "plot.show()"
   ]
  },
  {
   "cell_type": "markdown",
   "metadata": {},
   "source": [
    "Izracunajmo sad koliko nam je dobar model koristeci coefficient of determination."
   ]
  },
  {
   "cell_type": "code",
   "execution_count": 11,
   "metadata": {},
   "outputs": [
    {
     "name": "stdout",
     "output_type": "stream",
     "text": [
      "0.929979307345\n"
     ]
    }
   ],
   "source": [
    "ss_t = 0\n",
    "ss_r = 0\n",
    "for i in range(n):\n",
    "    y_pred = m*X[i]+b\n",
    "    ss_t += (Y[i] - mean_y) ** 2\n",
    "    ss_r += (Y[i] - y_pred) **2\n",
    "r2 = 1 - (ss_r/ss_t)\n",
    "print(r2)"
   ]
  },
  {
   "cell_type": "markdown",
   "metadata": {},
   "source": [
    "## KNN (k-nearest neighbors algorithm)\n",
    "\n"
   ]
  },
  {
   "cell_type": "markdown",
   "metadata": {},
   "source": [
    "KNN k-nearest neighbors algorithm je algoritam koji mozemo koristiti i za klasifikaciju i regresiju. U oba slucaja input se sastoji od k najblizis susjeda iz training seta podataka. Dok output zavisis od toga da li ga koristimo za klasifikaciju ili regresiju. Jedan od korisnih tehnika jeste da dodjelimo tezisne vrijednosti za savkog od susjeda, tako da najblizi susjedi utjecu vise na klasifikaciju od onih daljih. \n",
    "\n",
    "Training set podataka su vektori, svaki sa labelom klase. Proces treniranja se sastoji samo od spasavanja training data vektora i klasa. Dok u fazi klasifikacije, k koristimo kao user defined konstatntu, i vektor bez labele klase. Njemu se dodjeljuje najcesca labela klase od njegovih k susjeda.\n",
    "\n",
    "KNN algoritam mozemo podijeliti na 7 koraka:\n",
    "\n",
    "1. Loadanje podataka\n",
    "2. Inicijalizacija K kao broja najblizih susjeda\n",
    "3. Za svaki primjer u podacima\n",
    "    1. Izracunaj udaljenost izmedju susjeda i trenutnog primjera\n",
    "    2. Dodaj sve distance za svakog susjeda u jedan array\n",
    "4. Sortiraj dobijeni array od najblizeg do najdaljeg\n",
    "5. Izaberi prvih K zapisa iz sortiranog arraya\n",
    "6. Uzmi labele za izabrani K broj susjeda\n",
    "7. Dva slucaja:\n",
    "    1. Regresija\n",
    "        Vrati mean \n",
    "    2. Klasifikacija\n",
    "        Vrati mode  \n",
    "        \n",
    "\n",
    "\n",
    "     \n",
    "    \n",
    "Importujmo [keggle iris dataset](https://www.kaggle.com/arshid/iris-flower-dataset)"
   ]
  },
  {
   "cell_type": "code",
   "execution_count": 12,
   "metadata": {},
   "outputs": [
    {
     "name": "stdout",
     "output_type": "stream",
     "text": [
      "(150, 5)\n"
     ]
    },
    {
     "data": {
      "text/html": [
       "<div>\n",
       "<style scoped>\n",
       "    .dataframe tbody tr th:only-of-type {\n",
       "        vertical-align: middle;\n",
       "    }\n",
       "\n",
       "    .dataframe tbody tr th {\n",
       "        vertical-align: top;\n",
       "    }\n",
       "\n",
       "    .dataframe thead th {\n",
       "        text-align: right;\n",
       "    }\n",
       "</style>\n",
       "<table border=\"1\" class=\"dataframe\">\n",
       "  <thead>\n",
       "    <tr style=\"text-align: right;\">\n",
       "      <th></th>\n",
       "      <th>sepal_length</th>\n",
       "      <th>sepal_width</th>\n",
       "      <th>petal_length</th>\n",
       "      <th>petal_width</th>\n",
       "      <th>species</th>\n",
       "    </tr>\n",
       "  </thead>\n",
       "  <tbody>\n",
       "    <tr>\n",
       "      <th>0</th>\n",
       "      <td>5.1</td>\n",
       "      <td>3.5</td>\n",
       "      <td>1.4</td>\n",
       "      <td>0.2</td>\n",
       "      <td>Iris-setosa</td>\n",
       "    </tr>\n",
       "    <tr>\n",
       "      <th>1</th>\n",
       "      <td>4.9</td>\n",
       "      <td>3.0</td>\n",
       "      <td>1.4</td>\n",
       "      <td>0.2</td>\n",
       "      <td>Iris-setosa</td>\n",
       "    </tr>\n",
       "    <tr>\n",
       "      <th>2</th>\n",
       "      <td>4.7</td>\n",
       "      <td>3.2</td>\n",
       "      <td>1.3</td>\n",
       "      <td>0.2</td>\n",
       "      <td>Iris-setosa</td>\n",
       "    </tr>\n",
       "    <tr>\n",
       "      <th>3</th>\n",
       "      <td>4.6</td>\n",
       "      <td>3.1</td>\n",
       "      <td>1.5</td>\n",
       "      <td>0.2</td>\n",
       "      <td>Iris-setosa</td>\n",
       "    </tr>\n",
       "    <tr>\n",
       "      <th>4</th>\n",
       "      <td>5.0</td>\n",
       "      <td>3.6</td>\n",
       "      <td>1.4</td>\n",
       "      <td>0.2</td>\n",
       "      <td>Iris-setosa</td>\n",
       "    </tr>\n",
       "  </tbody>\n",
       "</table>\n",
       "</div>"
      ],
      "text/plain": [
       "   sepal_length  sepal_width  petal_length  petal_width      species\n",
       "0           5.1          3.5           1.4          0.2  Iris-setosa\n",
       "1           4.9          3.0           1.4          0.2  Iris-setosa\n",
       "2           4.7          3.2           1.3          0.2  Iris-setosa\n",
       "3           4.6          3.1           1.5          0.2  Iris-setosa\n",
       "4           5.0          3.6           1.4          0.2  Iris-setosa"
      ]
     },
     "execution_count": 12,
     "metadata": {},
     "output_type": "execute_result"
    }
   ],
   "source": [
    "data = pd.read_csv('IRIS.csv')\n",
    "print(data.shape)\n",
    "data.head()"
   ]
  },
  {
   "cell_type": "markdown",
   "metadata": {},
   "source": [
    "U slucaju visedimenzionalnih podataka (10 i vise) cesto se provodi redukcija dimenzija zbog tzv. prokletstva dimenizjonalnosti. U slucaju k-NN to znaci da je euklidska distanca nam ne govori mnogo u visim dimenzijama zato sto svi vektori su skoro podjednako udaljeni od vektora cije susjede trazimo.\n",
    "\n",
    "\n",
    "Napravimo training set tako sto uzmemo nasumicnih 75% zapisa (inace se uzima 66%) i 25% za testni set. "
   ]
  },
  {
   "cell_type": "code",
   "execution_count": 13,
   "metadata": {},
   "outputs": [],
   "source": [
    "data_copy = data.copy()\n",
    "train_set= data_copy.sample(frac=0.75, random_state=0)\n",
    "test_set=data_copy.drop(train_set.index)"
   ]
  },
  {
   "cell_type": "code",
   "execution_count": 14,
   "metadata": {},
   "outputs": [
    {
     "name": "stdout",
     "output_type": "stream",
     "text": [
      "(112, 5)\n"
     ]
    },
    {
     "data": {
      "text/html": [
       "<div>\n",
       "<style scoped>\n",
       "    .dataframe tbody tr th:only-of-type {\n",
       "        vertical-align: middle;\n",
       "    }\n",
       "\n",
       "    .dataframe tbody tr th {\n",
       "        vertical-align: top;\n",
       "    }\n",
       "\n",
       "    .dataframe thead th {\n",
       "        text-align: right;\n",
       "    }\n",
       "</style>\n",
       "<table border=\"1\" class=\"dataframe\">\n",
       "  <thead>\n",
       "    <tr style=\"text-align: right;\">\n",
       "      <th></th>\n",
       "      <th>sepal_length</th>\n",
       "      <th>sepal_width</th>\n",
       "      <th>petal_length</th>\n",
       "      <th>petal_width</th>\n",
       "      <th>species</th>\n",
       "    </tr>\n",
       "  </thead>\n",
       "  <tbody>\n",
       "    <tr>\n",
       "      <th>114</th>\n",
       "      <td>5.8</td>\n",
       "      <td>2.8</td>\n",
       "      <td>5.1</td>\n",
       "      <td>2.4</td>\n",
       "      <td>Iris-virginica</td>\n",
       "    </tr>\n",
       "    <tr>\n",
       "      <th>62</th>\n",
       "      <td>6.0</td>\n",
       "      <td>2.2</td>\n",
       "      <td>4.0</td>\n",
       "      <td>1.0</td>\n",
       "      <td>Iris-versicolor</td>\n",
       "    </tr>\n",
       "    <tr>\n",
       "      <th>33</th>\n",
       "      <td>5.5</td>\n",
       "      <td>4.2</td>\n",
       "      <td>1.4</td>\n",
       "      <td>0.2</td>\n",
       "      <td>Iris-setosa</td>\n",
       "    </tr>\n",
       "    <tr>\n",
       "      <th>107</th>\n",
       "      <td>7.3</td>\n",
       "      <td>2.9</td>\n",
       "      <td>6.3</td>\n",
       "      <td>1.8</td>\n",
       "      <td>Iris-virginica</td>\n",
       "    </tr>\n",
       "    <tr>\n",
       "      <th>7</th>\n",
       "      <td>5.0</td>\n",
       "      <td>3.4</td>\n",
       "      <td>1.5</td>\n",
       "      <td>0.2</td>\n",
       "      <td>Iris-setosa</td>\n",
       "    </tr>\n",
       "  </tbody>\n",
       "</table>\n",
       "</div>"
      ],
      "text/plain": [
       "     sepal_length  sepal_width  petal_length  petal_width          species\n",
       "114           5.8          2.8           5.1          2.4   Iris-virginica\n",
       "62            6.0          2.2           4.0          1.0  Iris-versicolor\n",
       "33            5.5          4.2           1.4          0.2      Iris-setosa\n",
       "107           7.3          2.9           6.3          1.8   Iris-virginica\n",
       "7             5.0          3.4           1.5          0.2      Iris-setosa"
      ]
     },
     "execution_count": 14,
     "metadata": {},
     "output_type": "execute_result"
    }
   ],
   "source": [
    "print(train_set.shape)\n",
    "train_set.head()\n"
   ]
  },
  {
   "cell_type": "code",
   "execution_count": 15,
   "metadata": {},
   "outputs": [
    {
     "name": "stdout",
     "output_type": "stream",
     "text": [
      "(38, 5)\n"
     ]
    },
    {
     "data": {
      "text/html": [
       "<div>\n",
       "<style scoped>\n",
       "    .dataframe tbody tr th:only-of-type {\n",
       "        vertical-align: middle;\n",
       "    }\n",
       "\n",
       "    .dataframe tbody tr th {\n",
       "        vertical-align: top;\n",
       "    }\n",
       "\n",
       "    .dataframe thead th {\n",
       "        text-align: right;\n",
       "    }\n",
       "</style>\n",
       "<table border=\"1\" class=\"dataframe\">\n",
       "  <thead>\n",
       "    <tr style=\"text-align: right;\">\n",
       "      <th></th>\n",
       "      <th>sepal_length</th>\n",
       "      <th>sepal_width</th>\n",
       "      <th>petal_length</th>\n",
       "      <th>petal_width</th>\n",
       "      <th>species</th>\n",
       "    </tr>\n",
       "  </thead>\n",
       "  <tbody>\n",
       "    <tr>\n",
       "      <th>9</th>\n",
       "      <td>4.9</td>\n",
       "      <td>3.1</td>\n",
       "      <td>1.5</td>\n",
       "      <td>0.1</td>\n",
       "      <td>Iris-setosa</td>\n",
       "    </tr>\n",
       "    <tr>\n",
       "      <th>14</th>\n",
       "      <td>5.8</td>\n",
       "      <td>4.0</td>\n",
       "      <td>1.2</td>\n",
       "      <td>0.2</td>\n",
       "      <td>Iris-setosa</td>\n",
       "    </tr>\n",
       "    <tr>\n",
       "      <th>19</th>\n",
       "      <td>5.1</td>\n",
       "      <td>3.8</td>\n",
       "      <td>1.5</td>\n",
       "      <td>0.3</td>\n",
       "      <td>Iris-setosa</td>\n",
       "    </tr>\n",
       "    <tr>\n",
       "      <th>21</th>\n",
       "      <td>5.1</td>\n",
       "      <td>3.7</td>\n",
       "      <td>1.5</td>\n",
       "      <td>0.4</td>\n",
       "      <td>Iris-setosa</td>\n",
       "    </tr>\n",
       "    <tr>\n",
       "      <th>25</th>\n",
       "      <td>5.0</td>\n",
       "      <td>3.0</td>\n",
       "      <td>1.6</td>\n",
       "      <td>0.2</td>\n",
       "      <td>Iris-setosa</td>\n",
       "    </tr>\n",
       "  </tbody>\n",
       "</table>\n",
       "</div>"
      ],
      "text/plain": [
       "    sepal_length  sepal_width  petal_length  petal_width      species\n",
       "9            4.9          3.1           1.5          0.1  Iris-setosa\n",
       "14           5.8          4.0           1.2          0.2  Iris-setosa\n",
       "19           5.1          3.8           1.5          0.3  Iris-setosa\n",
       "21           5.1          3.7           1.5          0.4  Iris-setosa\n",
       "25           5.0          3.0           1.6          0.2  Iris-setosa"
      ]
     },
     "execution_count": 15,
     "metadata": {},
     "output_type": "execute_result"
    }
   ],
   "source": [
    "print(test_set.shape)\n",
    "test_set.head()"
   ]
  },
  {
   "cell_type": "markdown",
   "metadata": {},
   "source": [
    "Definisimo funkcije za racunanje euklidske udaljenosti, najblizih susjeda, predvidjanje odgovora kao i racuanje tacnost odgovora"
   ]
  },
  {
   "cell_type": "code",
   "execution_count": 16,
   "metadata": {},
   "outputs": [],
   "source": [
    "import math\n",
    "\n",
    "def euclidieanDistance(inst1, inst2, length):\n",
    "    distance=0\n",
    "    for x in range(length):\n",
    "        distance += pow ((inst1[x] -inst2[x]), 2)\n",
    "    return math.sqrt(distance)"
   ]
  },
  {
   "cell_type": "code",
   "execution_count": 17,
   "metadata": {},
   "outputs": [],
   "source": [
    "import operator\n",
    "def getNeighbors(trainingSet, testInstance, k):\n",
    "    distances=[]\n",
    "    length=len(testInstance)-1\n",
    "    for x in range(len(trainingSet)):\n",
    "        dist = euclidieanDistance(testInstance, trainingSet[x], length)\n",
    "        distances.append((trainingSet[x], dist))\n",
    "    distances.sort(key=operator.itemgetter(1))\n",
    "    neighbors = []\n",
    "    for x in range(k):\n",
    "        neighbors.append(distances[x][0])\n",
    "    return neighbors"
   ]
  },
  {
   "cell_type": "code",
   "execution_count": 18,
   "metadata": {},
   "outputs": [],
   "source": [
    "def getResponse(neighbors):\n",
    "    classVotes = {}\n",
    "    for x in range(len(neighbors)):\n",
    "        response = neighbors[x][-1]\n",
    "        if response in classVotes:\n",
    "            classVotes[response] += 1\n",
    "        else:\n",
    "            classVotes[response] = 1\n",
    "    sortedVotes = sorted(classVotes.items(), key=operator.itemgetter(1), reverse=True)\n",
    "    return sortedVotes[0][0]"
   ]
  },
  {
   "cell_type": "code",
   "execution_count": 19,
   "metadata": {},
   "outputs": [],
   "source": [
    "def getAccuracy(testSet, predictions):\n",
    "    correct= 0\n",
    "    for x in range(len(testSet)):\n",
    "        if testSet[x][-1] is predictions[x]:\n",
    "            correct +=1\n",
    "    return(correct/float(len(testSet))) * 100.0"
   ]
  },
  {
   "cell_type": "code",
   "execution_count": 20,
   "metadata": {},
   "outputs": [
    {
     "name": "stdout",
     "output_type": "stream",
     "text": [
      "Train set length\n",
      "112\n",
      "Test set length\n",
      "38\n"
     ]
    }
   ],
   "source": [
    "print(\"Train set length\")\n",
    "print(len(train_set))\n",
    "\n",
    "print(\"Test set length\")\n",
    "print(len(test_set))"
   ]
  },
  {
   "cell_type": "markdown",
   "metadata": {},
   "source": [
    "Implementacija samog algorima je poprilicno jednostavna"
   ]
  },
  {
   "cell_type": "code",
   "execution_count": 21,
   "metadata": {},
   "outputs": [
    {
     "name": "stdout",
     "output_type": "stream",
     "text": [
      "---- precited='Iris-setosa', actual='Iris-setosa'\n",
      "---- precited='Iris-setosa', actual='Iris-setosa'\n",
      "---- precited='Iris-setosa', actual='Iris-setosa'\n",
      "---- precited='Iris-setosa', actual='Iris-setosa'\n",
      "---- precited='Iris-setosa', actual='Iris-setosa'\n",
      "---- precited='Iris-setosa', actual='Iris-setosa'\n",
      "---- precited='Iris-setosa', actual='Iris-setosa'\n",
      "---- precited='Iris-setosa', actual='Iris-setosa'\n",
      "---- precited='Iris-setosa', actual='Iris-setosa'\n",
      "---- precited='Iris-setosa', actual='Iris-setosa'\n",
      "---- precited='Iris-setosa', actual='Iris-setosa'\n",
      "---- precited='Iris-setosa', actual='Iris-setosa'\n",
      "---- precited='Iris-versicolor', actual='Iris-versicolor'\n",
      "---- precited='Iris-versicolor', actual='Iris-versicolor'\n",
      "---- precited='Iris-versicolor', actual='Iris-versicolor'\n",
      "---- precited='Iris-versicolor', actual='Iris-versicolor'\n",
      "---- precited='Iris-virginica', actual='Iris-versicolor'\n",
      "---- precited='Iris-virginica', actual='Iris-versicolor'\n",
      "---- precited='Iris-versicolor', actual='Iris-versicolor'\n",
      "---- precited='Iris-versicolor', actual='Iris-versicolor'\n",
      "---- precited='Iris-versicolor', actual='Iris-versicolor'\n",
      "---- precited='Iris-versicolor', actual='Iris-versicolor'\n",
      "---- precited='Iris-versicolor', actual='Iris-versicolor'\n",
      "---- precited='Iris-versicolor', actual='Iris-versicolor'\n",
      "---- precited='Iris-versicolor', actual='Iris-versicolor'\n",
      "---- precited='Iris-versicolor', actual='Iris-versicolor'\n",
      "---- precited='Iris-virginica', actual='Iris-virginica'\n",
      "---- precited='Iris-virginica', actual='Iris-virginica'\n",
      "---- precited='Iris-virginica', actual='Iris-virginica'\n",
      "---- precited='Iris-virginica', actual='Iris-virginica'\n",
      "---- precited='Iris-virginica', actual='Iris-virginica'\n",
      "---- precited='Iris-virginica', actual='Iris-virginica'\n",
      "---- precited='Iris-virginica', actual='Iris-virginica'\n",
      "---- precited='Iris-virginica', actual='Iris-virginica'\n",
      "---- precited='Iris-virginica', actual='Iris-virginica'\n",
      "---- precited='Iris-virginica', actual='Iris-virginica'\n",
      "---- precited='Iris-virginica', actual='Iris-virginica'\n",
      "---- precited='Iris-virginica', actual='Iris-virginica'\n",
      "Accuracy:94.73684210526315%\n"
     ]
    }
   ],
   "source": [
    "predictions=[]\n",
    "kValue=3\n",
    "for x in range(len(test_set)):\n",
    "    neighbors = getNeighbors(train_set.values, test_set.values[x], kValue)\n",
    "    result = getResponse(neighbors)\n",
    "    predictions.append(result)\n",
    "    print('---- precited=' +repr(result)+', actual=' + repr(test_set.values[x][-1]))\n",
    "accuracy= getAccuracy(test_set.values, predictions)\n",
    "print('Accuracy:' + repr(accuracy) + '%')"
   ]
  },
  {
   "cell_type": "markdown",
   "metadata": {},
   "source": [
    "## Naive bayes\n",
    "\n",
    "Naivni Bayesovi klasifikatori su porodica jednostavnih probalistickih klasifikatora baziranih na primjeni Bayesove teoreme.\n",
    "\n",
    "Bayesova teorema je jednostavna matematička formula koja se koristi za izračunavanje uslovnih verovatnoća.\n",
    "teorema o uvjetnoj vjerojatnosti: vjerojatnost da se događaj A dogodi s obzirom da se drugi događaj B već dogodio jednaka je vjerojatnosti da se događaj B dogodi s obzirom da se A već dogodio pomnožen s vjerojatnošću nastanka događaja A i podijeljen s verovatnoća pojave događaja B\n",
    "\n",
    "Primjene teorema su raširene i nisu ograničene na finansijsko područje. Kao primjer, Bayesova teorema može se koristiti za utvrđivanje tačnosti rezultata medicinskih ispitivanja uzimajući u obzir koliko je vjerovatno da će svaka osoba imati bolest i opću tačnost testa. Bayesova teorema oslanja se na uključivanje prethodnih raspodjela vjerojatnoće da bi se generirale posteriorne vjerovatnoće. Prethodna vjerojatnoća, u Bayesovom statističkom zaključku, je vjerojatnoća događaja prije nego što se prikupe novi podaci. Ovo je najbolja racionalna procjena vjerojatnoće ishoda na osnovu trenutnih saznanja prije nego što se eksperiment izvede. Posteriorna vjerovatnoća je revidirana vjerovatnoća nekog događaja koji se dogodio nakon uzimanja u obzir novih informacija. Posteriorna vjerojatnoća se izračunava ažuriranjem prethodne vjerovatnoće pomoću Bayesove teoreme. Statistički gledano, zadnja vjerojatnoća je vjerojatnoća događaja A koji se dogodio s obzirom na to da se dogodio događaj B.\n",
    "\n",
    "\n",
    "\n",
    "Sada cemo uraditi implementaciju ovog algoritma: \n",
    "\n",
    "Importujmo [keggle indians  diabetes database](https://www.kaggle.com/uciml/pima-indians-diabetes-database)"
   ]
  },
  {
   "cell_type": "code",
   "execution_count": 22,
   "metadata": {},
   "outputs": [
    {
     "name": "stdout",
     "output_type": "stream",
     "text": [
      "(768, 9)\n"
     ]
    },
    {
     "data": {
      "text/html": [
       "<div>\n",
       "<style scoped>\n",
       "    .dataframe tbody tr th:only-of-type {\n",
       "        vertical-align: middle;\n",
       "    }\n",
       "\n",
       "    .dataframe tbody tr th {\n",
       "        vertical-align: top;\n",
       "    }\n",
       "\n",
       "    .dataframe thead th {\n",
       "        text-align: right;\n",
       "    }\n",
       "</style>\n",
       "<table border=\"1\" class=\"dataframe\">\n",
       "  <thead>\n",
       "    <tr style=\"text-align: right;\">\n",
       "      <th></th>\n",
       "      <th>Pregnancies</th>\n",
       "      <th>Glucose</th>\n",
       "      <th>BloodPressure</th>\n",
       "      <th>SkinThickness</th>\n",
       "      <th>Insulin</th>\n",
       "      <th>BMI</th>\n",
       "      <th>DiabetesPedigreeFunction</th>\n",
       "      <th>Age</th>\n",
       "      <th>Outcome</th>\n",
       "    </tr>\n",
       "  </thead>\n",
       "  <tbody>\n",
       "    <tr>\n",
       "      <th>0</th>\n",
       "      <td>6</td>\n",
       "      <td>148</td>\n",
       "      <td>72</td>\n",
       "      <td>35</td>\n",
       "      <td>0</td>\n",
       "      <td>33.6</td>\n",
       "      <td>0.627</td>\n",
       "      <td>50</td>\n",
       "      <td>1</td>\n",
       "    </tr>\n",
       "    <tr>\n",
       "      <th>1</th>\n",
       "      <td>1</td>\n",
       "      <td>85</td>\n",
       "      <td>66</td>\n",
       "      <td>29</td>\n",
       "      <td>0</td>\n",
       "      <td>26.6</td>\n",
       "      <td>0.351</td>\n",
       "      <td>31</td>\n",
       "      <td>0</td>\n",
       "    </tr>\n",
       "    <tr>\n",
       "      <th>2</th>\n",
       "      <td>8</td>\n",
       "      <td>183</td>\n",
       "      <td>64</td>\n",
       "      <td>0</td>\n",
       "      <td>0</td>\n",
       "      <td>23.3</td>\n",
       "      <td>0.672</td>\n",
       "      <td>32</td>\n",
       "      <td>1</td>\n",
       "    </tr>\n",
       "    <tr>\n",
       "      <th>3</th>\n",
       "      <td>1</td>\n",
       "      <td>89</td>\n",
       "      <td>66</td>\n",
       "      <td>23</td>\n",
       "      <td>94</td>\n",
       "      <td>28.1</td>\n",
       "      <td>0.167</td>\n",
       "      <td>21</td>\n",
       "      <td>0</td>\n",
       "    </tr>\n",
       "    <tr>\n",
       "      <th>4</th>\n",
       "      <td>0</td>\n",
       "      <td>137</td>\n",
       "      <td>40</td>\n",
       "      <td>35</td>\n",
       "      <td>168</td>\n",
       "      <td>43.1</td>\n",
       "      <td>2.288</td>\n",
       "      <td>33</td>\n",
       "      <td>1</td>\n",
       "    </tr>\n",
       "  </tbody>\n",
       "</table>\n",
       "</div>"
      ],
      "text/plain": [
       "   Pregnancies  Glucose  BloodPressure  SkinThickness  Insulin   BMI  \\\n",
       "0            6      148             72             35        0  33.6   \n",
       "1            1       85             66             29        0  26.6   \n",
       "2            8      183             64              0        0  23.3   \n",
       "3            1       89             66             23       94  28.1   \n",
       "4            0      137             40             35      168  43.1   \n",
       "\n",
       "   DiabetesPedigreeFunction  Age  Outcome  \n",
       "0                     0.627   50        1  \n",
       "1                     0.351   31        0  \n",
       "2                     0.672   32        1  \n",
       "3                     0.167   21        0  \n",
       "4                     2.288   33        1  "
      ]
     },
     "execution_count": 22,
     "metadata": {},
     "output_type": "execute_result"
    }
   ],
   "source": [
    "data = pd.read_csv('diabetes.csv')\n",
    "print(data.shape)\n",
    "data.head()\n"
   ]
  },
  {
   "cell_type": "code",
   "execution_count": 23,
   "metadata": {},
   "outputs": [],
   "source": [
    "data_copy = data.copy()\n",
    "train_set= data_copy.sample(frac=0.80, random_state=0)\n",
    "test_set=data_copy.drop(train_set.index)"
   ]
  },
  {
   "cell_type": "code",
   "execution_count": 24,
   "metadata": {},
   "outputs": [
    {
     "name": "stdout",
     "output_type": "stream",
     "text": [
      "(614, 9)\n"
     ]
    },
    {
     "data": {
      "text/html": [
       "<div>\n",
       "<style scoped>\n",
       "    .dataframe tbody tr th:only-of-type {\n",
       "        vertical-align: middle;\n",
       "    }\n",
       "\n",
       "    .dataframe tbody tr th {\n",
       "        vertical-align: top;\n",
       "    }\n",
       "\n",
       "    .dataframe thead th {\n",
       "        text-align: right;\n",
       "    }\n",
       "</style>\n",
       "<table border=\"1\" class=\"dataframe\">\n",
       "  <thead>\n",
       "    <tr style=\"text-align: right;\">\n",
       "      <th></th>\n",
       "      <th>Pregnancies</th>\n",
       "      <th>Glucose</th>\n",
       "      <th>BloodPressure</th>\n",
       "      <th>SkinThickness</th>\n",
       "      <th>Insulin</th>\n",
       "      <th>BMI</th>\n",
       "      <th>DiabetesPedigreeFunction</th>\n",
       "      <th>Age</th>\n",
       "      <th>Outcome</th>\n",
       "    </tr>\n",
       "  </thead>\n",
       "  <tbody>\n",
       "    <tr>\n",
       "      <th>661</th>\n",
       "      <td>1</td>\n",
       "      <td>199</td>\n",
       "      <td>76</td>\n",
       "      <td>43</td>\n",
       "      <td>0</td>\n",
       "      <td>42.9</td>\n",
       "      <td>1.394</td>\n",
       "      <td>22</td>\n",
       "      <td>1</td>\n",
       "    </tr>\n",
       "    <tr>\n",
       "      <th>122</th>\n",
       "      <td>2</td>\n",
       "      <td>107</td>\n",
       "      <td>74</td>\n",
       "      <td>30</td>\n",
       "      <td>100</td>\n",
       "      <td>33.6</td>\n",
       "      <td>0.404</td>\n",
       "      <td>23</td>\n",
       "      <td>0</td>\n",
       "    </tr>\n",
       "    <tr>\n",
       "      <th>113</th>\n",
       "      <td>4</td>\n",
       "      <td>76</td>\n",
       "      <td>62</td>\n",
       "      <td>0</td>\n",
       "      <td>0</td>\n",
       "      <td>34.0</td>\n",
       "      <td>0.391</td>\n",
       "      <td>25</td>\n",
       "      <td>0</td>\n",
       "    </tr>\n",
       "    <tr>\n",
       "      <th>14</th>\n",
       "      <td>5</td>\n",
       "      <td>166</td>\n",
       "      <td>72</td>\n",
       "      <td>19</td>\n",
       "      <td>175</td>\n",
       "      <td>25.8</td>\n",
       "      <td>0.587</td>\n",
       "      <td>51</td>\n",
       "      <td>1</td>\n",
       "    </tr>\n",
       "    <tr>\n",
       "      <th>529</th>\n",
       "      <td>0</td>\n",
       "      <td>111</td>\n",
       "      <td>65</td>\n",
       "      <td>0</td>\n",
       "      <td>0</td>\n",
       "      <td>24.6</td>\n",
       "      <td>0.660</td>\n",
       "      <td>31</td>\n",
       "      <td>0</td>\n",
       "    </tr>\n",
       "  </tbody>\n",
       "</table>\n",
       "</div>"
      ],
      "text/plain": [
       "     Pregnancies  Glucose  BloodPressure  SkinThickness  Insulin   BMI  \\\n",
       "661            1      199             76             43        0  42.9   \n",
       "122            2      107             74             30      100  33.6   \n",
       "113            4       76             62              0        0  34.0   \n",
       "14             5      166             72             19      175  25.8   \n",
       "529            0      111             65              0        0  24.6   \n",
       "\n",
       "     DiabetesPedigreeFunction  Age  Outcome  \n",
       "661                     1.394   22        1  \n",
       "122                     0.404   23        0  \n",
       "113                     0.391   25        0  \n",
       "14                      0.587   51        1  \n",
       "529                     0.660   31        0  "
      ]
     },
     "execution_count": 24,
     "metadata": {},
     "output_type": "execute_result"
    }
   ],
   "source": [
    "print(train_set.shape)\n",
    "train_set.head()\n"
   ]
  },
  {
   "cell_type": "code",
   "execution_count": 25,
   "metadata": {},
   "outputs": [
    {
     "name": "stdout",
     "output_type": "stream",
     "text": [
      "(154, 9)\n"
     ]
    },
    {
     "data": {
      "text/html": [
       "<div>\n",
       "<style scoped>\n",
       "    .dataframe tbody tr th:only-of-type {\n",
       "        vertical-align: middle;\n",
       "    }\n",
       "\n",
       "    .dataframe tbody tr th {\n",
       "        vertical-align: top;\n",
       "    }\n",
       "\n",
       "    .dataframe thead th {\n",
       "        text-align: right;\n",
       "    }\n",
       "</style>\n",
       "<table border=\"1\" class=\"dataframe\">\n",
       "  <thead>\n",
       "    <tr style=\"text-align: right;\">\n",
       "      <th></th>\n",
       "      <th>Pregnancies</th>\n",
       "      <th>Glucose</th>\n",
       "      <th>BloodPressure</th>\n",
       "      <th>SkinThickness</th>\n",
       "      <th>Insulin</th>\n",
       "      <th>BMI</th>\n",
       "      <th>DiabetesPedigreeFunction</th>\n",
       "      <th>Age</th>\n",
       "      <th>Outcome</th>\n",
       "    </tr>\n",
       "  </thead>\n",
       "  <tbody>\n",
       "    <tr>\n",
       "      <th>9</th>\n",
       "      <td>8</td>\n",
       "      <td>125</td>\n",
       "      <td>96</td>\n",
       "      <td>0</td>\n",
       "      <td>0</td>\n",
       "      <td>0.0</td>\n",
       "      <td>0.232</td>\n",
       "      <td>54</td>\n",
       "      <td>1</td>\n",
       "    </tr>\n",
       "    <tr>\n",
       "      <th>11</th>\n",
       "      <td>10</td>\n",
       "      <td>168</td>\n",
       "      <td>74</td>\n",
       "      <td>0</td>\n",
       "      <td>0</td>\n",
       "      <td>38.0</td>\n",
       "      <td>0.537</td>\n",
       "      <td>34</td>\n",
       "      <td>1</td>\n",
       "    </tr>\n",
       "    <tr>\n",
       "      <th>19</th>\n",
       "      <td>1</td>\n",
       "      <td>115</td>\n",
       "      <td>70</td>\n",
       "      <td>30</td>\n",
       "      <td>96</td>\n",
       "      <td>34.6</td>\n",
       "      <td>0.529</td>\n",
       "      <td>32</td>\n",
       "      <td>1</td>\n",
       "    </tr>\n",
       "    <tr>\n",
       "      <th>23</th>\n",
       "      <td>9</td>\n",
       "      <td>119</td>\n",
       "      <td>80</td>\n",
       "      <td>35</td>\n",
       "      <td>0</td>\n",
       "      <td>29.0</td>\n",
       "      <td>0.263</td>\n",
       "      <td>29</td>\n",
       "      <td>1</td>\n",
       "    </tr>\n",
       "    <tr>\n",
       "      <th>28</th>\n",
       "      <td>13</td>\n",
       "      <td>145</td>\n",
       "      <td>82</td>\n",
       "      <td>19</td>\n",
       "      <td>110</td>\n",
       "      <td>22.2</td>\n",
       "      <td>0.245</td>\n",
       "      <td>57</td>\n",
       "      <td>0</td>\n",
       "    </tr>\n",
       "  </tbody>\n",
       "</table>\n",
       "</div>"
      ],
      "text/plain": [
       "    Pregnancies  Glucose  BloodPressure  SkinThickness  Insulin   BMI  \\\n",
       "9             8      125             96              0        0   0.0   \n",
       "11           10      168             74              0        0  38.0   \n",
       "19            1      115             70             30       96  34.6   \n",
       "23            9      119             80             35        0  29.0   \n",
       "28           13      145             82             19      110  22.2   \n",
       "\n",
       "    DiabetesPedigreeFunction  Age  Outcome  \n",
       "9                      0.232   54        1  \n",
       "11                     0.537   34        1  \n",
       "19                     0.529   32        1  \n",
       "23                     0.263   29        1  \n",
       "28                     0.245   57        0  "
      ]
     },
     "execution_count": 25,
     "metadata": {},
     "output_type": "execute_result"
    }
   ],
   "source": [
    "print(test_set.shape)\n",
    "test_set.head()"
   ]
  },
  {
   "cell_type": "code",
   "execution_count": 26,
   "metadata": {},
   "outputs": [],
   "source": [
    "def separateByClass(dataset):\n",
    "    separated = {}\n",
    "    for i in range(len(dataset)):\n",
    "        vector = dataset[i]\n",
    "        if (vector[-1] not in separated):\n",
    "            separated[vector[-1]] = []\n",
    "        separated[vector[-1]].append(vector)\n",
    "    return separated"
   ]
  },
  {
   "cell_type": "code",
   "execution_count": 27,
   "metadata": {},
   "outputs": [],
   "source": [
    "def summarize(dataset):\n",
    "    summaries =[(np.mean(attribute), np.std(attribute)) for attribute in zip(*dataset)]\n",
    "    del summaries[-1]\n",
    "    return summaries\n",
    "\n",
    "def summarizeByClass(dataset):\n",
    "    separated = separateByClass(dataset)\n",
    "    summaries = {}\n",
    "    for classValue, instances in separated.items():\n",
    "        summaries[classValue] = summarize(instances)\n",
    "    return summaries\n"
   ]
  },
  {
   "cell_type": "code",
   "execution_count": 28,
   "metadata": {},
   "outputs": [],
   "source": [
    "def calculateProbability(x, mean, stdev):\n",
    "    exponent = math.exp(-(math.pow(x-mean,2)/(2*math.pow(stdev,2))))\n",
    "    return (1/(math.sqrt(2*math.pi)*stdev))*exponent"
   ]
  },
  {
   "cell_type": "code",
   "execution_count": 29,
   "metadata": {},
   "outputs": [],
   "source": [
    "def calculateClassProbabilities(summaries, inputVector):\n",
    "    probabilities = {}\n",
    "    for classValue, classSummaries in summaries.items():\n",
    "        probabilities[classValue]=1\n",
    "        for i in range(len(classSummaries)):\n",
    "            mean, stdev = classSummaries[i]\n",
    "            x = inputVector[i]\n",
    "            probabilities[classValue] *= calculateProbability(x, mean, stdev)\n",
    "        return probabilities"
   ]
  },
  {
   "cell_type": "code",
   "execution_count": 30,
   "metadata": {},
   "outputs": [],
   "source": [
    "def predict(summaries, inputVector):\n",
    "    probabilities = calculateClassProbabilities(summaries, inputVector)\n",
    "    bestLabel, bestProb = None, -1\n",
    "    for classvalue, probability in probabilities.items():\n",
    "        if bestLabel is None or probability > bestProb:\n",
    "            bestProb = probability\n",
    "            bestLabel = classvalue\n",
    "    return bestLabel"
   ]
  },
  {
   "cell_type": "code",
   "execution_count": 31,
   "metadata": {},
   "outputs": [],
   "source": [
    "def getPredictions(summaries, testSet):\n",
    "    predictions= []\n",
    "    for i in range(len(testSet)):\n",
    "        result = predict(summaries, testSet[i])\n",
    "        predictions.append(result)\n",
    "    return predictions\n",
    "\n",
    "def getAccuracy(testSet, predictions):\n",
    "    correct=0\n",
    "    for x in range(len(testSet)):\n",
    "        if testSet[x][-1] == predictions[x]:\n",
    "            correct += 1\n",
    "    return(correct/float(len(testSet)))*100.0"
   ]
  },
  {
   "cell_type": "code",
   "execution_count": 32,
   "metadata": {},
   "outputs": [
    {
     "name": "stdout",
     "output_type": "stream",
     "text": [
      "Accuracy:31.818181818181817%\n"
     ]
    }
   ],
   "source": [
    "summaries = summarizeByClass(train_set.values)\n",
    "predictions= getPredictions(summaries, test_set.values)\n",
    "accuracy = getAccuracy(test_set.values, predictions)\n",
    "\n",
    "print('Accuracy:' + repr(accuracy) + '%')"
   ]
  }
 ],
 "metadata": {
  "kernelspec": {
   "display_name": "Python 3",
   "language": "python",
   "name": "python3"
  },
  "language_info": {
   "codemirror_mode": {
    "name": "ipython",
    "version": 3
   },
   "file_extension": ".py",
   "mimetype": "text/x-python",
   "name": "python",
   "nbconvert_exporter": "python",
   "pygments_lexer": "ipython3",
   "version": "3.6.7"
  }
 },
 "nbformat": 4,
 "nbformat_minor": 2
}
